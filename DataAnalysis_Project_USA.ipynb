{
  "nbformat": 4,
  "nbformat_minor": 0,
  "metadata": {
    "colab": {
      "name": "DataAnalysis_Project_USA.ipynb",
      "provenance": [],
      "collapsed_sections": [],
      "authorship_tag": "ABX9TyPHgr55i6nayoFOh/bQrPBM",
      "include_colab_link": true
    },
    "kernelspec": {
      "name": "python3",
      "display_name": "Python 3"
    },
    "language_info": {
      "name": "python"
    }
  },
  "cells": [
    {
      "cell_type": "markdown",
      "metadata": {
        "id": "view-in-github",
        "colab_type": "text"
      },
      "source": [
        "<a href=\"https://colab.research.google.com/github/Shivaram17/DataScience_Projects/blob/main/DataAnalysis_Project_USA.ipynb\" target=\"_parent\"><img src=\"https://colab.research.google.com/assets/colab-badge.svg\" alt=\"Open In Colab\"/></a>"
      ]
    },
    {
      "cell_type": "code",
      "execution_count": null,
      "metadata": {
        "colab": {
          "base_uri": "https://localhost:8080/"
        },
        "id": "tTa_rrusbMah",
        "outputId": "0734dfb0-e668-4cd1-eeba-62a1a329a34e"
      },
      "outputs": [
        {
          "output_type": "execute_result",
          "data": {
            "text/plain": [
              "{'a': 'Mozilla/5.0 (Windows NT 6.1; WOW64) AppleWebKit/535.11 (KHTML, like Gecko) Chrome/17.0.963.78 Safari/535.11',\n",
              " 'al': 'en-US,en;q=0.8',\n",
              " 'c': 'US',\n",
              " 'cy': 'Danvers',\n",
              " 'g': 'A6qOVH',\n",
              " 'gr': 'MA',\n",
              " 'h': 'wfLQtf',\n",
              " 'hc': 1331822918,\n",
              " 'hh': '1.usa.gov',\n",
              " 'l': 'orofrog',\n",
              " 'll': [42.576698, -70.954903],\n",
              " 'nk': 1,\n",
              " 'r': 'http://www.facebook.com/l/7AQEFzjSi/1.usa.gov/wfLQtf',\n",
              " 't': 1331923247,\n",
              " 'tz': 'America/New_York',\n",
              " 'u': 'http://www.ncbi.nlm.nih.gov/pubmed/22415991'}"
            ]
          },
          "metadata": {},
          "execution_count": 5
        }
      ],
      "source": [
        "import json\n",
        "path = r'USA_gov.txt'\n",
        "'''converting a JSON string into a\n",
        "   Python dictionary object.'''\n",
        "records = [json.loads(line) for line in open(path)]\n",
        "records[0]"
      ]
    },
    {
      "cell_type": "code",
      "source": [
        "# Counting time zones in Pure Python\n",
        "time_zones = [rec['tz'] for rec in records if 'tz' in rec]\n",
        "len(set(time_zones))\n",
        "time_zones[:10]"
      ],
      "metadata": {
        "colab": {
          "base_uri": "https://localhost:8080/"
        },
        "id": "y9pjUs3JbyJ5",
        "outputId": "5c49ee7f-a150-4b09-f963-7ff495d8d65c"
      },
      "execution_count": null,
      "outputs": [
        {
          "output_type": "execute_result",
          "data": {
            "text/plain": [
              "['America/New_York',\n",
              " 'America/Denver',\n",
              " 'America/New_York',\n",
              " 'America/Sao_Paulo',\n",
              " 'America/New_York',\n",
              " 'America/New_York',\n",
              " 'Europe/Warsaw',\n",
              " '',\n",
              " '',\n",
              " '']"
            ]
          },
          "metadata": {},
          "execution_count": 6
        }
      ]
    },
    {
      "cell_type": "code",
      "source": [
        "# find the count of time zones using dictionary approach\n",
        "def get_counts(sequence):\n",
        "  count = {}\n",
        "  for i in sequence:\n",
        "    if i in count:\n",
        "      count[i] += 1 \n",
        "    else:\n",
        "      count[i] =1\n",
        "  return count\n",
        "counts = get_counts(time_zones)\n",
        "counts"
      ],
      "metadata": {
        "colab": {
          "base_uri": "https://localhost:8080/"
        },
        "id": "ixWQ1dlDc4n_",
        "outputId": "740d751a-7dc8-4805-cf9c-59a48c6b5f67"
      },
      "execution_count": null,
      "outputs": [
        {
          "output_type": "execute_result",
          "data": {
            "text/plain": [
              "{'': 521,\n",
              " 'Africa/Cairo': 3,\n",
              " 'Africa/Casablanca': 1,\n",
              " 'Africa/Ceuta': 2,\n",
              " 'Africa/Johannesburg': 1,\n",
              " 'Africa/Lusaka': 1,\n",
              " 'America/Anchorage': 5,\n",
              " 'America/Argentina/Buenos_Aires': 1,\n",
              " 'America/Argentina/Cordoba': 1,\n",
              " 'America/Argentina/Mendoza': 1,\n",
              " 'America/Bogota': 3,\n",
              " 'America/Caracas': 1,\n",
              " 'America/Chicago': 400,\n",
              " 'America/Chihuahua': 2,\n",
              " 'America/Costa_Rica': 1,\n",
              " 'America/Denver': 191,\n",
              " 'America/Edmonton': 6,\n",
              " 'America/Guayaquil': 2,\n",
              " 'America/Halifax': 4,\n",
              " 'America/Indianapolis': 20,\n",
              " 'America/La_Paz': 1,\n",
              " 'America/Lima': 1,\n",
              " 'America/Los_Angeles': 382,\n",
              " 'America/Managua': 3,\n",
              " 'America/Mazatlan': 1,\n",
              " 'America/Mexico_City': 15,\n",
              " 'America/Monterrey': 1,\n",
              " 'America/Montevideo': 1,\n",
              " 'America/Montreal': 9,\n",
              " 'America/New_York': 1251,\n",
              " 'America/Phoenix': 20,\n",
              " 'America/Puerto_Rico': 10,\n",
              " 'America/Rainy_River': 25,\n",
              " 'America/Recife': 2,\n",
              " 'America/Santo_Domingo': 1,\n",
              " 'America/Sao_Paulo': 33,\n",
              " 'America/St_Kitts': 1,\n",
              " 'America/Tegucigalpa': 1,\n",
              " 'America/Vancouver': 12,\n",
              " 'America/Winnipeg': 4,\n",
              " 'Asia/Amman': 2,\n",
              " 'Asia/Bangkok': 6,\n",
              " 'Asia/Beirut': 4,\n",
              " 'Asia/Calcutta': 9,\n",
              " 'Asia/Dubai': 4,\n",
              " 'Asia/Harbin': 3,\n",
              " 'Asia/Hong_Kong': 10,\n",
              " 'Asia/Istanbul': 9,\n",
              " 'Asia/Jakarta': 3,\n",
              " 'Asia/Jerusalem': 3,\n",
              " 'Asia/Karachi': 3,\n",
              " 'Asia/Kuala_Lumpur': 3,\n",
              " 'Asia/Kuching': 1,\n",
              " 'Asia/Manila': 1,\n",
              " 'Asia/Nicosia': 1,\n",
              " 'Asia/Novosibirsk': 1,\n",
              " 'Asia/Pontianak': 1,\n",
              " 'Asia/Riyadh': 1,\n",
              " 'Asia/Seoul': 5,\n",
              " 'Asia/Tokyo': 37,\n",
              " 'Asia/Yekaterinburg': 1,\n",
              " 'Australia/NSW': 6,\n",
              " 'Australia/Queensland': 1,\n",
              " 'Chile/Continental': 6,\n",
              " 'Europe/Amsterdam': 22,\n",
              " 'Europe/Athens': 6,\n",
              " 'Europe/Belgrade': 2,\n",
              " 'Europe/Berlin': 28,\n",
              " 'Europe/Bratislava': 3,\n",
              " 'Europe/Brussels': 4,\n",
              " 'Europe/Bucharest': 4,\n",
              " 'Europe/Budapest': 5,\n",
              " 'Europe/Copenhagen': 5,\n",
              " 'Europe/Dublin': 3,\n",
              " 'Europe/Helsinki': 10,\n",
              " 'Europe/Lisbon': 8,\n",
              " 'Europe/Ljubljana': 1,\n",
              " 'Europe/London': 74,\n",
              " 'Europe/Madrid': 35,\n",
              " 'Europe/Malta': 2,\n",
              " 'Europe/Moscow': 10,\n",
              " 'Europe/Oslo': 10,\n",
              " 'Europe/Paris': 14,\n",
              " 'Europe/Prague': 10,\n",
              " 'Europe/Riga': 2,\n",
              " 'Europe/Rome': 27,\n",
              " 'Europe/Skopje': 1,\n",
              " 'Europe/Sofia': 1,\n",
              " 'Europe/Stockholm': 14,\n",
              " 'Europe/Uzhgorod': 1,\n",
              " 'Europe/Vienna': 6,\n",
              " 'Europe/Vilnius': 2,\n",
              " 'Europe/Volgograd': 1,\n",
              " 'Europe/Warsaw': 16,\n",
              " 'Europe/Zurich': 4,\n",
              " 'Pacific/Auckland': 11,\n",
              " 'Pacific/Honolulu': 36}"
            ]
          },
          "metadata": {},
          "execution_count": 7
        }
      ]
    },
    {
      "cell_type": "code",
      "source": [
        "# using default dict\n",
        "from collections import defaultdict\n",
        "\n",
        "def get_counts2(sequence):\n",
        "  count = defaultdict(int)\n",
        "  for i in sequence:\n",
        "    count[i] +=1\n",
        "  return  count\n",
        "get_counts2(time_zones)\n"
      ],
      "metadata": {
        "colab": {
          "base_uri": "https://localhost:8080/"
        },
        "id": "w_kMiuddjdQX",
        "outputId": "c3672bbb-2a7d-4afe-cbeb-21247657fd17"
      },
      "execution_count": null,
      "outputs": [
        {
          "output_type": "execute_result",
          "data": {
            "text/plain": [
              "defaultdict(int,\n",
              "            {'': 521,\n",
              "             'Africa/Cairo': 3,\n",
              "             'Africa/Casablanca': 1,\n",
              "             'Africa/Ceuta': 2,\n",
              "             'Africa/Johannesburg': 1,\n",
              "             'Africa/Lusaka': 1,\n",
              "             'America/Anchorage': 5,\n",
              "             'America/Argentina/Buenos_Aires': 1,\n",
              "             'America/Argentina/Cordoba': 1,\n",
              "             'America/Argentina/Mendoza': 1,\n",
              "             'America/Bogota': 3,\n",
              "             'America/Caracas': 1,\n",
              "             'America/Chicago': 400,\n",
              "             'America/Chihuahua': 2,\n",
              "             'America/Costa_Rica': 1,\n",
              "             'America/Denver': 191,\n",
              "             'America/Edmonton': 6,\n",
              "             'America/Guayaquil': 2,\n",
              "             'America/Halifax': 4,\n",
              "             'America/Indianapolis': 20,\n",
              "             'America/La_Paz': 1,\n",
              "             'America/Lima': 1,\n",
              "             'America/Los_Angeles': 382,\n",
              "             'America/Managua': 3,\n",
              "             'America/Mazatlan': 1,\n",
              "             'America/Mexico_City': 15,\n",
              "             'America/Monterrey': 1,\n",
              "             'America/Montevideo': 1,\n",
              "             'America/Montreal': 9,\n",
              "             'America/New_York': 1251,\n",
              "             'America/Phoenix': 20,\n",
              "             'America/Puerto_Rico': 10,\n",
              "             'America/Rainy_River': 25,\n",
              "             'America/Recife': 2,\n",
              "             'America/Santo_Domingo': 1,\n",
              "             'America/Sao_Paulo': 33,\n",
              "             'America/St_Kitts': 1,\n",
              "             'America/Tegucigalpa': 1,\n",
              "             'America/Vancouver': 12,\n",
              "             'America/Winnipeg': 4,\n",
              "             'Asia/Amman': 2,\n",
              "             'Asia/Bangkok': 6,\n",
              "             'Asia/Beirut': 4,\n",
              "             'Asia/Calcutta': 9,\n",
              "             'Asia/Dubai': 4,\n",
              "             'Asia/Harbin': 3,\n",
              "             'Asia/Hong_Kong': 10,\n",
              "             'Asia/Istanbul': 9,\n",
              "             'Asia/Jakarta': 3,\n",
              "             'Asia/Jerusalem': 3,\n",
              "             'Asia/Karachi': 3,\n",
              "             'Asia/Kuala_Lumpur': 3,\n",
              "             'Asia/Kuching': 1,\n",
              "             'Asia/Manila': 1,\n",
              "             'Asia/Nicosia': 1,\n",
              "             'Asia/Novosibirsk': 1,\n",
              "             'Asia/Pontianak': 1,\n",
              "             'Asia/Riyadh': 1,\n",
              "             'Asia/Seoul': 5,\n",
              "             'Asia/Tokyo': 37,\n",
              "             'Asia/Yekaterinburg': 1,\n",
              "             'Australia/NSW': 6,\n",
              "             'Australia/Queensland': 1,\n",
              "             'Chile/Continental': 6,\n",
              "             'Europe/Amsterdam': 22,\n",
              "             'Europe/Athens': 6,\n",
              "             'Europe/Belgrade': 2,\n",
              "             'Europe/Berlin': 28,\n",
              "             'Europe/Bratislava': 3,\n",
              "             'Europe/Brussels': 4,\n",
              "             'Europe/Bucharest': 4,\n",
              "             'Europe/Budapest': 5,\n",
              "             'Europe/Copenhagen': 5,\n",
              "             'Europe/Dublin': 3,\n",
              "             'Europe/Helsinki': 10,\n",
              "             'Europe/Lisbon': 8,\n",
              "             'Europe/Ljubljana': 1,\n",
              "             'Europe/London': 74,\n",
              "             'Europe/Madrid': 35,\n",
              "             'Europe/Malta': 2,\n",
              "             'Europe/Moscow': 10,\n",
              "             'Europe/Oslo': 10,\n",
              "             'Europe/Paris': 14,\n",
              "             'Europe/Prague': 10,\n",
              "             'Europe/Riga': 2,\n",
              "             'Europe/Rome': 27,\n",
              "             'Europe/Skopje': 1,\n",
              "             'Europe/Sofia': 1,\n",
              "             'Europe/Stockholm': 14,\n",
              "             'Europe/Uzhgorod': 1,\n",
              "             'Europe/Vienna': 6,\n",
              "             'Europe/Vilnius': 2,\n",
              "             'Europe/Volgograd': 1,\n",
              "             'Europe/Warsaw': 16,\n",
              "             'Europe/Zurich': 4,\n",
              "             'Pacific/Auckland': 11,\n",
              "             'Pacific/Honolulu': 36})"
            ]
          },
          "metadata": {},
          "execution_count": 8
        }
      ]
    },
    {
      "cell_type": "code",
      "source": [
        "# usning collections and Counter\n",
        "from collections import Counter\n",
        "counts = Counter(time_zones)\n",
        "counts.most_common(25)"
      ],
      "metadata": {
        "colab": {
          "base_uri": "https://localhost:8080/"
        },
        "id": "3jgNrvuilaAF",
        "outputId": "3805c709-10fb-4248-ee1a-8493c9287a30"
      },
      "execution_count": null,
      "outputs": [
        {
          "output_type": "execute_result",
          "data": {
            "text/plain": [
              "[('America/New_York', 1251),\n",
              " ('', 521),\n",
              " ('America/Chicago', 400),\n",
              " ('America/Los_Angeles', 382),\n",
              " ('America/Denver', 191),\n",
              " ('Europe/London', 74),\n",
              " ('Asia/Tokyo', 37),\n",
              " ('Pacific/Honolulu', 36),\n",
              " ('Europe/Madrid', 35),\n",
              " ('America/Sao_Paulo', 33),\n",
              " ('Europe/Berlin', 28),\n",
              " ('Europe/Rome', 27),\n",
              " ('America/Rainy_River', 25),\n",
              " ('Europe/Amsterdam', 22),\n",
              " ('America/Phoenix', 20),\n",
              " ('America/Indianapolis', 20),\n",
              " ('Europe/Warsaw', 16),\n",
              " ('America/Mexico_City', 15),\n",
              " ('Europe/Paris', 14),\n",
              " ('Europe/Stockholm', 14),\n",
              " ('America/Vancouver', 12),\n",
              " ('Pacific/Auckland', 11),\n",
              " ('Asia/Hong_Kong', 10),\n",
              " ('Europe/Prague', 10),\n",
              " ('Europe/Moscow', 10)]"
            ]
          },
          "metadata": {},
          "execution_count": 9
        }
      ]
    },
    {
      "cell_type": "code",
      "source": [
        "# using pandas to find the counts of time zones\n",
        "import pandas as pd\n",
        "frame = pd.DataFrame(records)\n",
        "# frame.info()\n",
        "frame['tz'][:10]\n",
        "# value_counts\n",
        "tz_counts = frame['tz'].value_counts()\n",
        "tz_counts"
      ],
      "metadata": {
        "colab": {
          "base_uri": "https://localhost:8080/"
        },
        "id": "ZmKLGc5zmZUe",
        "outputId": "fdf6899a-b1bf-41fd-d346-fee5406c7fc0"
      },
      "execution_count": null,
      "outputs": [
        {
          "output_type": "execute_result",
          "data": {
            "text/plain": [
              "America/New_York        1251\n",
              "                         521\n",
              "America/Chicago          400\n",
              "America/Los_Angeles      382\n",
              "America/Denver           191\n",
              "                        ... \n",
              "Europe/Uzhgorod            1\n",
              "Australia/Queensland       1\n",
              "Europe/Sofia               1\n",
              "America/Costa_Rica         1\n",
              "America/Tegucigalpa        1\n",
              "Name: tz, Length: 97, dtype: int64"
            ]
          },
          "metadata": {},
          "execution_count": 10
        }
      ]
    },
    {
      "cell_type": "code",
      "source": [
        "# munging \n",
        "clean_tz = frame['tz'].fillna('Missing')\n",
        "clean_tz[clean_tz == ''] = 'Unknown'\n",
        "clean_tz"
      ],
      "metadata": {
        "colab": {
          "base_uri": "https://localhost:8080/"
        },
        "id": "Qpdbxf-pnG1Q",
        "outputId": "76028311-67f4-487d-a6ef-8465f51db7b0"
      },
      "execution_count": null,
      "outputs": [
        {
          "output_type": "execute_result",
          "data": {
            "text/plain": [
              "0          America/New_York\n",
              "1            America/Denver\n",
              "2          America/New_York\n",
              "3         America/Sao_Paulo\n",
              "4          America/New_York\n",
              "               ...         \n",
              "3555       America/New_York\n",
              "3556        America/Chicago\n",
              "3557         America/Denver\n",
              "3558    America/Los_Angeles\n",
              "3559       America/New_York\n",
              "Name: tz, Length: 3560, dtype: object"
            ]
          },
          "metadata": {},
          "execution_count": 11
        }
      ]
    },
    {
      "cell_type": "code",
      "source": [
        "# seaborn\n",
        "import seaborn as sns\n",
        "subset = tz_counts[:10]\n",
        "barp = sns.barplot(y = subset.index, x = subset.values)\n",
        "barp.set(title = 'Top time zones of USA')\n"
      ],
      "metadata": {
        "id": "x84V31fTZ50i",
        "colab": {
          "base_uri": "https://localhost:8080/",
          "height": 298
        },
        "outputId": "d5af759d-daba-4cc4-8492-eb96f36385a8"
      },
      "execution_count": null,
      "outputs": [
        {
          "output_type": "execute_result",
          "data": {
            "text/plain": [
              "[Text(0.5, 1.0, 'Top time zones of USA')]"
            ]
          },
          "metadata": {},
          "execution_count": 15
        },
        {
          "output_type": "display_data",
          "data": {
            "text/plain": [
              "<Figure size 432x288 with 1 Axes>"
            ],
            "image/png": "[encoded data removed]"
          },
          "metadata": {
            "needs_background": "light"
          }
        }
      ]
    },
    {
      "cell_type": "code",
      "source": [
        "# parsing a browser in the dataframe\n",
        "frame['a'][50]\n",
        "# split off the first token in the string \n",
        "result = pd.Series(x.split()[0] for x in frame['a'].dropna())\n",
        "result[:5]\n",
        "# counts for browsers\n",
        "result_counts = result.value_counts()[:10]\n",
        "result_counts"
      ],
      "metadata": {
        "colab": {
          "base_uri": "https://localhost:8080/"
        },
        "id": "fZSNVHG1SrAq",
        "outputId": "5aa8fcaf-a7c8-4f08-8287-c67dfec8a76f"
      },
      "execution_count": null,
      "outputs": [
        {
          "output_type": "execute_result",
          "data": {
            "text/plain": [
              "Mozilla/5.0                 2594\n",
              "Mozilla/4.0                  601\n",
              "GoogleMaps/RochesterNY       121\n",
              "Opera/9.80                    34\n",
              "TEST_INTERNET_AGENT           24\n",
              "GoogleProducer                21\n",
              "Mozilla/6.0                    5\n",
              "BlackBerry8520/5.0.0.681       4\n",
              "BlackBerry8520/5.0.0.592       3\n",
              "Dalvik/1.4.0                   3\n",
              "dtype: int64"
            ]
          },
          "metadata": {},
          "execution_count": 20
        }
      ]
    },
    {
      "cell_type": "code",
      "source": [
        "# finding windows and non-windows error\n",
        "import numpy as np\n",
        "cframe = frame[frame['a'].notnull()]\n",
        "cframe['os'] = np.where(cframe['a'].str.contains('Windows'),'Windows', 'Not Windows')\n",
        "cframe['os'][:8]\n",
        "# group data by it's time zone column\n",
        "by_tz_os = cframe.groupby(['tz', 'os'])\n",
        "by_tz_os = by_tz_os.size().unstack().fillna(0)\n",
        "by_tz_os\n"
      ],
      "metadata": {
        "colab": {
          "base_uri": "https://localhost:8080/"
        },
        "id": "5KlMPXOMUhmA",
        "outputId": "ea2b38ca-2346-49b5-d37b-9337edbca4ee"
      },
      "execution_count": null,
      "outputs": [
        {
          "output_type": "stream",
          "name": "stderr",
          "text": [
            "/usr/local/lib/python3.7/dist-packages/ipykernel_launcher.py:4: SettingWithCopyWarning: \n",
            "A value is trying to be set on a copy of a slice from a DataFrame.\n",
            "Try using .loc[row_indexer,col_indexer] = value instead\n",
            "\n",
            "See the caveats in the documentation: https://pandas.pydata.org/pandas-docs/stable/user_guide/indexing.html#returning-a-view-versus-a-copy\n",
            "  after removing the cwd from sys.path.\n"
          ]
        },
        {
          "output_type": "execute_result",
          "data": {
            "text/plain": [
              "tz                 os         \n",
              "                   Not Windows    245\n",
              "                   Windows        276\n",
              "Africa/Cairo       Windows          3\n",
              "Africa/Casablanca  Windows          1\n",
              "Africa/Ceuta       Windows          2\n",
              "                                 ... \n",
              "Europe/Warsaw      Windows         15\n",
              "Europe/Zurich      Not Windows      4\n",
              "Pacific/Auckland   Not Windows      3\n",
              "                   Windows          8\n",
              "Pacific/Honolulu   Windows         36\n",
              "Length: 149, dtype: int64"
            ]
          },
          "metadata": {},
          "execution_count": 29
        }
      ]
    },
    {
      "cell_type": "code",
      "source": [
        ""
      ],
      "metadata": {
        "id": "-DynFfUZW_IQ"
      },
      "execution_count": null,
      "outputs": []
    }
  ]
}