{
  "nbformat": 4,
  "nbformat_minor": 0,
  "metadata": {
    "colab": {
      "name": "HousingSalePricePrediction_Test_CogniTensor.ipynb",
      "provenance": [],
      "collapsed_sections": []
    },
    "kernelspec": {
      "name": "python3",
      "display_name": "Python 3"
    },
    "language_info": {
      "name": "python"
    }
  },
  "cells": [
    {
      "cell_type": "markdown",
      "source": [
        "#Import libraries and read input data"
      ],
      "metadata": {
        "id": "MpiMXqxCu4wN"
      }
    },
    {
      "cell_type": "code",
      "source": [
        "import pandas as pd\n",
        "import numpy as np\n",
        "import seaborn as sns\n",
        "import matplotlib.pyplot as plt\n",
        "from sklearn.decomposition import PCA\n",
        "from sklearn.linear_model import LinearRegression\n",
        "\n",
        "# read data\n",
        "train = pd.read_csv('train.csv')\n",
        "test = pd.read_csv('test.csv')"
      ],
      "metadata": {
        "id": "EPO63iTuvLIB"
      },
      "execution_count": 70,
      "outputs": []
    },
    {
      "cell_type": "markdown",
      "source": [
        "# Understanding Data"
      ],
      "metadata": {
        "id": "APDSUhG-yM79"
      }
    },
    {
      "cell_type": "code",
      "source": [
        "# Exploratory data analysis\n",
        "train.describe()"
      ],
      "metadata": {
        "colab": {
          "base_uri": "https://localhost:8080/",
          "height": 364
        },
        "id": "qVhZ1C_kyLq8",
        "outputId": "f84ec5be-e8a5-4ec7-c34d-83bfa74ea0db"
      },
      "execution_count": 77,
      "outputs": [
        {
          "output_type": "execute_result",
          "data": {
            "text/plain": [
              "                Id   MSSubClass        LotArea  OverallQual  OverallCond    YearBuilt  YearRemodAdd   BsmtFinSF1   BsmtFinSF2    BsmtUnfSF  TotalBsmtSF     1stFlrSF     2ndFlrSF  LowQualFinSF  \\\n",
              "count  1460.000000  1460.000000    1460.000000  1460.000000  1460.000000  1460.000000   1460.000000  1460.000000  1460.000000  1460.000000  1460.000000  1460.000000  1460.000000   1460.000000   \n",
              "mean    730.500000    56.897260   10516.828082     6.099315     5.575342  1971.267808   1984.865753   443.639726    46.549315   567.240411  1057.429452  1162.626712   346.992466      5.844521   \n",
              "std     421.610009    42.300571    9981.264932     1.382997     1.112799    30.202904     20.645407   456.098091   161.319273   441.866955   438.705324   386.587738   436.528436     48.623081   \n",
              "min       1.000000    20.000000    1300.000000     1.000000     1.000000  1872.000000   1950.000000     0.000000     0.000000     0.000000     0.000000   334.000000     0.000000      0.000000   \n",
              "25%     365.750000    20.000000    7553.500000     5.000000     5.000000  1954.000000   1967.000000     0.000000     0.000000   223.000000   795.750000   882.000000     0.000000      0.000000   \n",
              "50%     730.500000    50.000000    9478.500000     6.000000     5.000000  1973.000000   1994.000000   383.500000     0.000000   477.500000   991.500000  1087.000000     0.000000      0.000000   \n",
              "75%    1095.250000    70.000000   11601.500000     7.000000     6.000000  2000.000000   2004.000000   712.250000     0.000000   808.000000  1298.250000  1391.250000   728.000000      0.000000   \n",
              "max    1460.000000   190.000000  215245.000000    10.000000     9.000000  2010.000000   2010.000000  5644.000000  1474.000000  2336.000000  6110.000000  4692.000000  2065.000000    572.000000   \n",
              "\n",
              "         GrLivArea  BsmtFullBath  BsmtHalfBath     FullBath     HalfBath  BedroomAbvGr  KitchenAbvGr  TotRmsAbvGrd   Fireplaces   GarageCars   GarageArea   WoodDeckSF  OpenPorchSF  EnclosedPorch  \\\n",
              "count  1460.000000   1460.000000   1460.000000  1460.000000  1460.000000   1460.000000   1460.000000   1460.000000  1460.000000  1460.000000  1460.000000  1460.000000  1460.000000    1460.000000   \n",
              "mean   1515.463699      0.425342      0.057534     1.565068     0.382877      2.866438      1.046575      6.517808     0.613014     1.767123   472.980137    94.244521    46.660274      21.954110   \n",
              "std     525.480383      0.518911      0.238753     0.550916     0.502885      0.815778      0.220338      1.625393     0.644666     0.747315   213.804841   125.338794    66.256028      61.119149   \n",
              "min     334.000000      0.000000      0.000000     0.000000     0.000000      0.000000      0.000000      2.000000     0.000000     0.000000     0.000000     0.000000     0.000000       0.000000   \n",
              "25%    1129.500000      0.000000      0.000000     1.000000     0.000000      2.000000      1.000000      5.000000     0.000000     1.000000   334.500000     0.000000     0.000000       0.000000   \n",
              "50%    1464.000000      0.000000      0.000000     2.000000     0.000000      3.000000      1.000000      6.000000     1.000000     2.000000   480.000000     0.000000    25.000000       0.000000   \n",
              "75%    1776.750000      1.000000      0.000000     2.000000     1.000000      3.000000      1.000000      7.000000     1.000000     2.000000   576.000000   168.000000    68.000000       0.000000   \n",
              "max    5642.000000      3.000000      2.000000     3.000000     2.000000      8.000000      3.000000     14.000000     3.000000     4.000000  1418.000000   857.000000   547.000000     552.000000   \n",
              "\n",
              "         3SsnPorch  ScreenPorch     PoolArea       MiscVal       MoSold       YrSold      SalePrice  \n",
              "count  1460.000000  1460.000000  1460.000000   1460.000000  1460.000000  1460.000000    1460.000000  \n",
              "mean      3.409589    15.060959     2.758904     43.489041     6.321918  2007.815753  180921.195890  \n",
              "std      29.317331    55.757415    40.177307    496.123024     2.703626     1.328095   79442.502883  \n",
              "min       0.000000     0.000000     0.000000      0.000000     1.000000  2006.000000   34900.000000  \n",
              "25%       0.000000     0.000000     0.000000      0.000000     5.000000  2007.000000  129975.000000  \n",
              "50%       0.000000     0.000000     0.000000      0.000000     6.000000  2008.000000  163000.000000  \n",
              "75%       0.000000     0.000000     0.000000      0.000000     8.000000  2009.000000  214000.000000  \n",
              "max     508.000000   480.000000   738.000000  15500.000000    12.000000  2010.000000  755000.000000  "
            ],
            "text/html": [
              "\n",
              "  <div id=\"df-2415739f-95bd-4dbb-bb6a-59027eaf0ad9\">\n",
              "    <div class=\"colab-df-container\">\n",
              "      <div>\n",
              "<style scoped>\n",
              "    .dataframe tbody tr th:only-of-type {\n",
              "        vertical-align: middle;\n",
              "    }\n",
              "\n",
              "    .dataframe tbody tr th {\n",
              "        vertical-align: top;\n",
              "    }\n",
              "\n",
              "    .dataframe thead th {\n",
              "        text-align: right;\n",
              "    }\n",
              "</style>\n",
              "<table border=\"1\" class=\"dataframe\">\n",
              "  <thead>\n",
              "    <tr style=\"text-align: right;\">\n",
              "      <th></th>\n",
              "      <th>Id</th>\n",
              "      <th>MSSubClass</th>\n",
              "      <th>LotArea</th>\n",
              "      <th>OverallQual</th>\n",
              "      <th>OverallCond</th>\n",
              "      <th>YearBuilt</th>\n",
              "      <th>YearRemodAdd</th>\n",
              "      <th>BsmtFinSF1</th>\n",
              "      <th>BsmtFinSF2</th>\n",
              "      <th>BsmtUnfSF</th>\n",
              "      <th>TotalBsmtSF</th>\n",
              "      <th>1stFlrSF</th>\n",
              "      <th>2ndFlrSF</th>\n",
              "      <th>LowQualFinSF</th>\n",
              "      <th>GrLivArea</th>\n",
              "      <th>BsmtFullBath</th>\n",
              "      <th>BsmtHalfBath</th>\n",
              "      <th>FullBath</th>\n",
              "      <th>HalfBath</th>\n",
              "      <th>BedroomAbvGr</th>\n",
              "      <th>KitchenAbvGr</th>\n",
              "      <th>TotRmsAbvGrd</th>\n",
              "      <th>Fireplaces</th>\n",
              "      <th>GarageCars</th>\n",
              "      <th>GarageArea</th>\n",
              "      <th>WoodDeckSF</th>\n",
              "      <th>OpenPorchSF</th>\n",
              "      <th>EnclosedPorch</th>\n",
              "      <th>3SsnPorch</th>\n",
              "      <th>ScreenPorch</th>\n",
              "      <th>PoolArea</th>\n",
              "      <th>MiscVal</th>\n",
              "      <th>MoSold</th>\n",
              "      <th>YrSold</th>\n",
              "      <th>SalePrice</th>\n",
              "    </tr>\n",
              "  </thead>\n",
              "  <tbody>\n",
              "    <tr>\n",
              "      <th>count</th>\n",
              "      <td>1460.000000</td>\n",
              "      <td>1460.000000</td>\n",
              "      <td>1460.000000</td>\n",
              "      <td>1460.000000</td>\n",
              "      <td>1460.000000</td>\n",
              "      <td>1460.000000</td>\n",
              "      <td>1460.000000</td>\n",
              "      <td>1460.000000</td>\n",
              "      <td>1460.000000</td>\n",
              "      <td>1460.000000</td>\n",
              "      <td>1460.000000</td>\n",
              "      <td>1460.000000</td>\n",
              "      <td>1460.000000</td>\n",
              "      <td>1460.000000</td>\n",
              "      <td>1460.000000</td>\n",
              "      <td>1460.000000</td>\n",
              "      <td>1460.000000</td>\n",
              "      <td>1460.000000</td>\n",
              "      <td>1460.000000</td>\n",
              "      <td>1460.000000</td>\n",
              "      <td>1460.000000</td>\n",
              "      <td>1460.000000</td>\n",
              "      <td>1460.000000</td>\n",
              "      <td>1460.000000</td>\n",
              "      <td>1460.000000</td>\n",
              "      <td>1460.000000</td>\n",
              "      <td>1460.000000</td>\n",
              "      <td>1460.000000</td>\n",
              "      <td>1460.000000</td>\n",
              "      <td>1460.000000</td>\n",
              "      <td>1460.000000</td>\n",
              "      <td>1460.000000</td>\n",
              "      <td>1460.000000</td>\n",
              "      <td>1460.000000</td>\n",
              "      <td>1460.000000</td>\n",
              "    </tr>\n",
              "    <tr>\n",
              "      <th>mean</th>\n",
              "      <td>730.500000</td>\n",
              "      <td>56.897260</td>\n",
              "      <td>10516.828082</td>\n",
              "      <td>6.099315</td>\n",
              "      <td>5.575342</td>\n",
              "      <td>1971.267808</td>\n",
              "      <td>1984.865753</td>\n",
              "      <td>443.639726</td>\n",
              "      <td>46.549315</td>\n",
              "      <td>567.240411</td>\n",
              "      <td>1057.429452</td>\n",
              "      <td>1162.626712</td>\n",
              "      <td>346.992466</td>\n",
              "      <td>5.844521</td>\n",
              "      <td>1515.463699</td>\n",
              "      <td>0.425342</td>\n",
              "      <td>0.057534</td>\n",
              "      <td>1.565068</td>\n",
              "      <td>0.382877</td>\n",
              "      <td>2.866438</td>\n",
              "      <td>1.046575</td>\n",
              "      <td>6.517808</td>\n",
              "      <td>0.613014</td>\n",
              "      <td>1.767123</td>\n",
              "      <td>472.980137</td>\n",
              "      <td>94.244521</td>\n",
              "      <td>46.660274</td>\n",
              "      <td>21.954110</td>\n",
              "      <td>3.409589</td>\n",
              "      <td>15.060959</td>\n",
              "      <td>2.758904</td>\n",
              "      <td>43.489041</td>\n",
              "      <td>6.321918</td>\n",
              "      <td>2007.815753</td>\n",
              "      <td>180921.195890</td>\n",
              "    </tr>\n",
              "    <tr>\n",
              "      <th>std</th>\n",
              "      <td>421.610009</td>\n",
              "      <td>42.300571</td>\n",
              "      <td>9981.264932</td>\n",
              "      <td>1.382997</td>\n",
              "      <td>1.112799</td>\n",
              "      <td>30.202904</td>\n",
              "      <td>20.645407</td>\n",
              "      <td>456.098091</td>\n",
              "      <td>161.319273</td>\n",
              "      <td>441.866955</td>\n",
              "      <td>438.705324</td>\n",
              "      <td>386.587738</td>\n",
              "      <td>436.528436</td>\n",
              "      <td>48.623081</td>\n",
              "      <td>525.480383</td>\n",
              "      <td>0.518911</td>\n",
              "      <td>0.238753</td>\n",
              "      <td>0.550916</td>\n",
              "      <td>0.502885</td>\n",
              "      <td>0.815778</td>\n",
              "      <td>0.220338</td>\n",
              "      <td>1.625393</td>\n",
              "      <td>0.644666</td>\n",
              "      <td>0.747315</td>\n",
              "      <td>213.804841</td>\n",
              "      <td>125.338794</td>\n",
              "      <td>66.256028</td>\n",
              "      <td>61.119149</td>\n",
              "      <td>29.317331</td>\n",
              "      <td>55.757415</td>\n",
              "      <td>40.177307</td>\n",
              "      <td>496.123024</td>\n",
              "      <td>2.703626</td>\n",
              "      <td>1.328095</td>\n",
              "      <td>79442.502883</td>\n",
              "    </tr>\n",
              "    <tr>\n",
              "      <th>min</th>\n",
              "      <td>1.000000</td>\n",
              "      <td>20.000000</td>\n",
              "      <td>1300.000000</td>\n",
              "      <td>1.000000</td>\n",
              "      <td>1.000000</td>\n",
              "      <td>1872.000000</td>\n",
              "      <td>1950.000000</td>\n",
              "      <td>0.000000</td>\n",
              "      <td>0.000000</td>\n",
              "      <td>0.000000</td>\n",
              "      <td>0.000000</td>\n",
              "      <td>334.000000</td>\n",
              "      <td>0.000000</td>\n",
              "      <td>0.000000</td>\n",
              "      <td>334.000000</td>\n",
              "      <td>0.000000</td>\n",
              "      <td>0.000000</td>\n",
              "      <td>0.000000</td>\n",
              "      <td>0.000000</td>\n",
              "      <td>0.000000</td>\n",
              "      <td>0.000000</td>\n",
              "      <td>2.000000</td>\n",
              "      <td>0.000000</td>\n",
              "      <td>0.000000</td>\n",
              "      <td>0.000000</td>\n",
              "      <td>0.000000</td>\n",
              "      <td>0.000000</td>\n",
              "      <td>0.000000</td>\n",
              "      <td>0.000000</td>\n",
              "      <td>0.000000</td>\n",
              "      <td>0.000000</td>\n",
              "      <td>0.000000</td>\n",
              "      <td>1.000000</td>\n",
              "      <td>2006.000000</td>\n",
              "      <td>34900.000000</td>\n",
              "    </tr>\n",
              "    <tr>\n",
              "      <th>25%</th>\n",
              "      <td>365.750000</td>\n",
              "      <td>20.000000</td>\n",
              "      <td>7553.500000</td>\n",
              "      <td>5.000000</td>\n",
              "      <td>5.000000</td>\n",
              "      <td>1954.000000</td>\n",
              "      <td>1967.000000</td>\n",
              "      <td>0.000000</td>\n",
              "      <td>0.000000</td>\n",
              "      <td>223.000000</td>\n",
              "      <td>795.750000</td>\n",
              "      <td>882.000000</td>\n",
              "      <td>0.000000</td>\n",
              "      <td>0.000000</td>\n",
              "      <td>1129.500000</td>\n",
              "      <td>0.000000</td>\n",
              "      <td>0.000000</td>\n",
              "      <td>1.000000</td>\n",
              "      <td>0.000000</td>\n",
              "      <td>2.000000</td>\n",
              "      <td>1.000000</td>\n",
              "      <td>5.000000</td>\n",
              "      <td>0.000000</td>\n",
              "      <td>1.000000</td>\n",
              "      <td>334.500000</td>\n",
              "      <td>0.000000</td>\n",
              "      <td>0.000000</td>\n",
              "      <td>0.000000</td>\n",
              "      <td>0.000000</td>\n",
              "      <td>0.000000</td>\n",
              "      <td>0.000000</td>\n",
              "      <td>0.000000</td>\n",
              "      <td>5.000000</td>\n",
              "      <td>2007.000000</td>\n",
              "      <td>129975.000000</td>\n",
              "    </tr>\n",
              "    <tr>\n",
              "      <th>50%</th>\n",
              "      <td>730.500000</td>\n",
              "      <td>50.000000</td>\n",
              "      <td>9478.500000</td>\n",
              "      <td>6.000000</td>\n",
              "      <td>5.000000</td>\n",
              "      <td>1973.000000</td>\n",
              "      <td>1994.000000</td>\n",
              "      <td>383.500000</td>\n",
              "      <td>0.000000</td>\n",
              "      <td>477.500000</td>\n",
              "      <td>991.500000</td>\n",
              "      <td>1087.000000</td>\n",
              "      <td>0.000000</td>\n",
              "      <td>0.000000</td>\n",
              "      <td>1464.000000</td>\n",
              "      <td>0.000000</td>\n",
              "      <td>0.000000</td>\n",
              "      <td>2.000000</td>\n",
              "      <td>0.000000</td>\n",
              "      <td>3.000000</td>\n",
              "      <td>1.000000</td>\n",
              "      <td>6.000000</td>\n",
              "      <td>1.000000</td>\n",
              "      <td>2.000000</td>\n",
              "      <td>480.000000</td>\n",
              "      <td>0.000000</td>\n",
              "      <td>25.000000</td>\n",
              "      <td>0.000000</td>\n",
              "      <td>0.000000</td>\n",
              "      <td>0.000000</td>\n",
              "      <td>0.000000</td>\n",
              "      <td>0.000000</td>\n",
              "      <td>6.000000</td>\n",
              "      <td>2008.000000</td>\n",
              "      <td>163000.000000</td>\n",
              "    </tr>\n",
              "    <tr>\n",
              "      <th>75%</th>\n",
              "      <td>1095.250000</td>\n",
              "      <td>70.000000</td>\n",
              "      <td>11601.500000</td>\n",
              "      <td>7.000000</td>\n",
              "      <td>6.000000</td>\n",
              "      <td>2000.000000</td>\n",
              "      <td>2004.000000</td>\n",
              "      <td>712.250000</td>\n",
              "      <td>0.000000</td>\n",
              "      <td>808.000000</td>\n",
              "      <td>1298.250000</td>\n",
              "      <td>1391.250000</td>\n",
              "      <td>728.000000</td>\n",
              "      <td>0.000000</td>\n",
              "      <td>1776.750000</td>\n",
              "      <td>1.000000</td>\n",
              "      <td>0.000000</td>\n",
              "      <td>2.000000</td>\n",
              "      <td>1.000000</td>\n",
              "      <td>3.000000</td>\n",
              "      <td>1.000000</td>\n",
              "      <td>7.000000</td>\n",
              "      <td>1.000000</td>\n",
              "      <td>2.000000</td>\n",
              "      <td>576.000000</td>\n",
              "      <td>168.000000</td>\n",
              "      <td>68.000000</td>\n",
              "      <td>0.000000</td>\n",
              "      <td>0.000000</td>\n",
              "      <td>0.000000</td>\n",
              "      <td>0.000000</td>\n",
              "      <td>0.000000</td>\n",
              "      <td>8.000000</td>\n",
              "      <td>2009.000000</td>\n",
              "      <td>214000.000000</td>\n",
              "    </tr>\n",
              "    <tr>\n",
              "      <th>max</th>\n",
              "      <td>1460.000000</td>\n",
              "      <td>190.000000</td>\n",
              "      <td>215245.000000</td>\n",
              "      <td>10.000000</td>\n",
              "      <td>9.000000</td>\n",
              "      <td>2010.000000</td>\n",
              "      <td>2010.000000</td>\n",
              "      <td>5644.000000</td>\n",
              "      <td>1474.000000</td>\n",
              "      <td>2336.000000</td>\n",
              "      <td>6110.000000</td>\n",
              "      <td>4692.000000</td>\n",
              "      <td>2065.000000</td>\n",
              "      <td>572.000000</td>\n",
              "      <td>5642.000000</td>\n",
              "      <td>3.000000</td>\n",
              "      <td>2.000000</td>\n",
              "      <td>3.000000</td>\n",
              "      <td>2.000000</td>\n",
              "      <td>8.000000</td>\n",
              "      <td>3.000000</td>\n",
              "      <td>14.000000</td>\n",
              "      <td>3.000000</td>\n",
              "      <td>4.000000</td>\n",
              "      <td>1418.000000</td>\n",
              "      <td>857.000000</td>\n",
              "      <td>547.000000</td>\n",
              "      <td>552.000000</td>\n",
              "      <td>508.000000</td>\n",
              "      <td>480.000000</td>\n",
              "      <td>738.000000</td>\n",
              "      <td>15500.000000</td>\n",
              "      <td>12.000000</td>\n",
              "      <td>2010.000000</td>\n",
              "      <td>755000.000000</td>\n",
              "    </tr>\n",
              "  </tbody>\n",
              "</table>\n",
              "</div>\n",
              "      <button class=\"colab-df-convert\" onclick=\"convertToInteractive('df-2415739f-95bd-4dbb-bb6a-59027eaf0ad9')\"\n",
              "              title=\"Convert this dataframe to an interactive table.\"\n",
              "              style=\"display:none;\">\n",
              "        \n",
              "  <svg xmlns=\"http://www.w3.org/2000/svg\" height=\"24px\"viewBox=\"0 0 24 24\"\n",
              "       width=\"24px\">\n",
              "    <path d=\"M0 0h24v24H0V0z\" fill=\"none\"/>\n",
              "    <path d=\"M18.56 5.44l.94 2.06.94-2.06 2.06-.94-2.06-.94-.94-2.06-.94 2.06-2.06.94zm-11 1L8.5 8.5l.94-2.06 2.06-.94-2.06-.94L8.5 2.5l-.94 2.06-2.06.94zm10 10l.94 2.06.94-2.06 2.06-.94-2.06-.94-.94-2.06-.94 2.06-2.06.94z\"/><path d=\"M17.41 7.96l-1.37-1.37c-.4-.4-.92-.59-1.43-.59-.52 0-1.04.2-1.43.59L10.3 9.45l-7.72 7.72c-.78.78-.78 2.05 0 2.83L4 21.41c.39.39.9.59 1.41.59.51 0 1.02-.2 1.41-.59l7.78-7.78 2.81-2.81c.8-.78.8-2.07 0-2.86zM5.41 20L4 18.59l7.72-7.72 1.47 1.35L5.41 20z\"/>\n",
              "  </svg>\n",
              "      </button>\n",
              "      \n",
              "  <style>\n",
              "    .colab-df-container {\n",
              "      display:flex;\n",
              "      flex-wrap:wrap;\n",
              "      gap: 12px;\n",
              "    }\n",
              "\n",
              "    .colab-df-convert {\n",
              "      background-color: #E8F0FE;\n",
              "      border: none;\n",
              "      border-radius: 50%;\n",
              "      cursor: pointer;\n",
              "      display: none;\n",
              "      fill: #1967D2;\n",
              "      height: 32px;\n",
              "      padding: 0 0 0 0;\n",
              "      width: 32px;\n",
              "    }\n",
              "\n",
              "    .colab-df-convert:hover {\n",
              "      background-color: #E2EBFA;\n",
              "      box-shadow: 0px 1px 2px rgba(60, 64, 67, 0.3), 0px 1px 3px 1px rgba(60, 64, 67, 0.15);\n",
              "      fill: #174EA6;\n",
              "    }\n",
              "\n",
              "    [theme=dark] .colab-df-convert {\n",
              "      background-color: #3B4455;\n",
              "      fill: #D2E3FC;\n",
              "    }\n",
              "\n",
              "    [theme=dark] .colab-df-convert:hover {\n",
              "      background-color: #434B5C;\n",
              "      box-shadow: 0px 1px 3px 1px rgba(0, 0, 0, 0.15);\n",
              "      filter: drop-shadow(0px 1px 2px rgba(0, 0, 0, 0.3));\n",
              "      fill: #FFFFFF;\n",
              "    }\n",
              "  </style>\n",
              "\n",
              "      <script>\n",
              "        const buttonEl =\n",
              "          document.querySelector('#df-2415739f-95bd-4dbb-bb6a-59027eaf0ad9 button.colab-df-convert');\n",
              "        buttonEl.style.display =\n",
              "          google.colab.kernel.accessAllowed ? 'block' : 'none';\n",
              "\n",
              "        async function convertToInteractive(key) {\n",
              "          const element = document.querySelector('#df-2415739f-95bd-4dbb-bb6a-59027eaf0ad9');\n",
              "          const dataTable =\n",
              "            await google.colab.kernel.invokeFunction('convertToInteractive',\n",
              "                                                     [key], {});\n",
              "          if (!dataTable) return;\n",
              "\n",
              "          const docLinkHtml = 'Like what you see? Visit the ' +\n",
              "            '<a target=\"_blank\" href=https://colab.research.google.com/notebooks/data_table.ipynb>data table notebook</a>'\n",
              "            + ' to learn more about interactive tables.';\n",
              "          element.innerHTML = '';\n",
              "          dataTable['output_type'] = 'display_data';\n",
              "          await google.colab.output.renderOutput(dataTable, element);\n",
              "          const docLink = document.createElement('div');\n",
              "          docLink.innerHTML = docLinkHtml;\n",
              "          element.appendChild(docLink);\n",
              "        }\n",
              "      </script>\n",
              "    </div>\n",
              "  </div>\n",
              "  "
            ]
          },
          "metadata": {},
          "execution_count": 77
        }
      ]
    },
    {
      "cell_type": "code",
      "source": [
        "train.info()"
      ],
      "metadata": {
        "colab": {
          "base_uri": "https://localhost:8080/"
        },
        "id": "Cw391FFIybH-",
        "outputId": "030b0041-9c8d-4cc3-ee69-5e7b1c5f7a7d"
      },
      "execution_count": 79,
      "outputs": [
        {
          "output_type": "stream",
          "name": "stdout",
          "text": [
            "<class 'pandas.core.frame.DataFrame'>\n",
            "RangeIndex: 1460 entries, 0 to 1459\n",
            "Data columns (total 62 columns):\n",
            " #   Column         Non-Null Count  Dtype \n",
            "---  ------         --------------  ----- \n",
            " 0   Id             1460 non-null   int64 \n",
            " 1   MSSubClass     1460 non-null   int64 \n",
            " 2   MSZoning       1460 non-null   object\n",
            " 3   LotArea        1460 non-null   int64 \n",
            " 4   Street         1460 non-null   object\n",
            " 5   LotShape       1460 non-null   object\n",
            " 6   LandContour    1460 non-null   object\n",
            " 7   Utilities      1460 non-null   object\n",
            " 8   LotConfig      1460 non-null   object\n",
            " 9   LandSlope      1460 non-null   object\n",
            " 10  Neighborhood   1460 non-null   object\n",
            " 11  Condition1     1460 non-null   object\n",
            " 12  Condition2     1460 non-null   object\n",
            " 13  BldgType       1460 non-null   object\n",
            " 14  HouseStyle     1460 non-null   object\n",
            " 15  OverallQual    1460 non-null   int64 \n",
            " 16  OverallCond    1460 non-null   int64 \n",
            " 17  YearBuilt      1460 non-null   int64 \n",
            " 18  YearRemodAdd   1460 non-null   int64 \n",
            " 19  RoofStyle      1460 non-null   object\n",
            " 20  RoofMatl       1460 non-null   object\n",
            " 21  Exterior1st    1460 non-null   object\n",
            " 22  Exterior2nd    1460 non-null   object\n",
            " 23  ExterQual      1460 non-null   object\n",
            " 24  ExterCond      1460 non-null   object\n",
            " 25  Foundation     1460 non-null   object\n",
            " 26  BsmtFinSF1     1460 non-null   int64 \n",
            " 27  BsmtFinSF2     1460 non-null   int64 \n",
            " 28  BsmtUnfSF      1460 non-null   int64 \n",
            " 29  TotalBsmtSF    1460 non-null   int64 \n",
            " 30  Heating        1460 non-null   object\n",
            " 31  HeatingQC      1460 non-null   object\n",
            " 32  CentralAir     1460 non-null   object\n",
            " 33  1stFlrSF       1460 non-null   int64 \n",
            " 34  2ndFlrSF       1460 non-null   int64 \n",
            " 35  LowQualFinSF   1460 non-null   int64 \n",
            " 36  GrLivArea      1460 non-null   int64 \n",
            " 37  BsmtFullBath   1460 non-null   int64 \n",
            " 38  BsmtHalfBath   1460 non-null   int64 \n",
            " 39  FullBath       1460 non-null   int64 \n",
            " 40  HalfBath       1460 non-null   int64 \n",
            " 41  BedroomAbvGr   1460 non-null   int64 \n",
            " 42  KitchenAbvGr   1460 non-null   int64 \n",
            " 43  KitchenQual    1460 non-null   object\n",
            " 44  TotRmsAbvGrd   1460 non-null   int64 \n",
            " 45  Functional     1460 non-null   object\n",
            " 46  Fireplaces     1460 non-null   int64 \n",
            " 47  GarageCars     1460 non-null   int64 \n",
            " 48  GarageArea     1460 non-null   int64 \n",
            " 49  PavedDrive     1460 non-null   object\n",
            " 50  WoodDeckSF     1460 non-null   int64 \n",
            " 51  OpenPorchSF    1460 non-null   int64 \n",
            " 52  EnclosedPorch  1460 non-null   int64 \n",
            " 53  3SsnPorch      1460 non-null   int64 \n",
            " 54  ScreenPorch    1460 non-null   int64 \n",
            " 55  PoolArea       1460 non-null   int64 \n",
            " 56  MiscVal        1460 non-null   int64 \n",
            " 57  MoSold         1460 non-null   int64 \n",
            " 58  YrSold         1460 non-null   int64 \n",
            " 59  SaleType       1460 non-null   object\n",
            " 60  SaleCondition  1460 non-null   object\n",
            " 61  SalePrice      1460 non-null   int64 \n",
            "dtypes: int64(35), object(27)\n",
            "memory usage: 707.3+ KB\n"
          ]
        }
      ]
    },
    {
      "cell_type": "code",
      "source": [
        "# check which attribute makes it easier\n",
        "train['OverallCond'].value_counts().plot(kind = 'bar')\n",
        "plt.title('Overall Condition')\n",
        "plt.xlabel('No of Houses')\n",
        "plt.ylabel('Count')"
      ],
      "metadata": {
        "colab": {
          "base_uri": "https://localhost:8080/",
          "height": 309
        },
        "id": "dts4X_7syhLv",
        "outputId": "1a91e90e-958c-4244-fc2e-6fb9390f85b1"
      },
      "execution_count": 82,
      "outputs": [
        {
          "output_type": "execute_result",
          "data": {
            "text/plain": [
              "Text(0, 0.5, 'Count')"
            ]
          },
          "metadata": {},
          "execution_count": 82
        },
        {
          "output_type": "display_data",
          "data": {
            "text/plain": [
              "<Figure size 432x288 with 1 Axes>"
            ],
            "image/png": "[encoded data removed]"
          },
          "metadata": {
            "needs_background": "light"
          }
        }
      ]
    },
    {
      "cell_type": "code",
      "source": [
        "# How common factors are affecting the prices of Houses\n",
        "plt.scatter(train.SalePrice, train.LotArea)\n",
        "plt.title('Price for Lot Area')\n",
        "# most of the prices seem to be in the range of 100000 to 500000 "
      ],
      "metadata": {
        "colab": {
          "base_uri": "https://localhost:8080/",
          "height": 298
        },
        "id": "WEiVyMYUzVSP",
        "outputId": "aab4bdb1-6bce-440d-cd5b-892a9d84c2a7"
      },
      "execution_count": 84,
      "outputs": [
        {
          "output_type": "execute_result",
          "data": {
            "text/plain": [
              "Text(0.5, 1.0, 'Price for Lot Area')"
            ]
          },
          "metadata": {},
          "execution_count": 84
        },
        {
          "output_type": "display_data",
          "data": {
            "text/plain": [
              "<Figure size 432x288 with 1 Axes>"
            ],
            "image/png": "[encoded data removed]"
          },
          "metadata": {
            "needs_background": "light"
          }
        }
      ]
    },
    {
      "cell_type": "code",
      "source": [
        "# How common factors are affecting the prices of Houses\n",
        "plt.scatter(train.SalePrice, train.LotShape)\n",
        "plt.title('Price in lot shape')"
      ],
      "metadata": {
        "colab": {
          "base_uri": "https://localhost:8080/",
          "height": 298
        },
        "id": "qslqKUw_z9UH",
        "outputId": "590fd7a5-b3e6-4e0e-dcc1-aa114eec4aaf"
      },
      "execution_count": 85,
      "outputs": [
        {
          "output_type": "execute_result",
          "data": {
            "text/plain": [
              "Text(0.5, 1.0, 'Price in lot shape')"
            ]
          },
          "metadata": {},
          "execution_count": 85
        },
        {
          "output_type": "display_data",
          "data": {
            "text/plain": [
              "<Figure size 432x288 with 1 Axes>"
            ],
            "image/png": "[encoded data removed]"
          },
          "metadata": {
            "needs_background": "light"
          }
        }
      ]
    },
    {
      "cell_type": "code",
      "source": [
        "# How other variables are correlating with our target variable\n",
        "corr_matrix = train.corr()\n",
        "corr_matrix['SalePrice'].sort_values(ascending = False)"
      ],
      "metadata": {
        "colab": {
          "base_uri": "https://localhost:8080/"
        },
        "id": "JU1VlqeA0MkZ",
        "outputId": "56560b7f-7f10-4dc7-da93-dc70a02d89f0"
      },
      "execution_count": 87,
      "outputs": [
        {
          "output_type": "execute_result",
          "data": {
            "text/plain": [
              "SalePrice        1.000000\n",
              "OverallQual      0.790982\n",
              "GrLivArea        0.708624\n",
              "GarageCars       0.640409\n",
              "GarageArea       0.623431\n",
              "TotalBsmtSF      0.613581\n",
              "1stFlrSF         0.605852\n",
              "FullBath         0.560664\n",
              "TotRmsAbvGrd     0.533723\n",
              "YearBuilt        0.522897\n",
              "YearRemodAdd     0.507101\n",
              "Fireplaces       0.466929\n",
              "BsmtFinSF1       0.386420\n",
              "WoodDeckSF       0.324413\n",
              "2ndFlrSF         0.319334\n",
              "OpenPorchSF      0.315856\n",
              "HalfBath         0.284108\n",
              "LotArea          0.263843\n",
              "BsmtFullBath     0.227122\n",
              "BsmtUnfSF        0.214479\n",
              "BedroomAbvGr     0.168213\n",
              "ScreenPorch      0.111447\n",
              "PoolArea         0.092404\n",
              "MoSold           0.046432\n",
              "3SsnPorch        0.044584\n",
              "BsmtFinSF2      -0.011378\n",
              "BsmtHalfBath    -0.016844\n",
              "MiscVal         -0.021190\n",
              "Id              -0.021917\n",
              "LowQualFinSF    -0.025606\n",
              "YrSold          -0.028923\n",
              "OverallCond     -0.077856\n",
              "MSSubClass      -0.084284\n",
              "EnclosedPorch   -0.128578\n",
              "KitchenAbvGr    -0.135907\n",
              "Name: SalePrice, dtype: float64"
            ]
          },
          "metadata": {},
          "execution_count": 87
        }
      ]
    },
    {
      "cell_type": "markdown",
      "source": [
        "#Data Preprocessing"
      ],
      "metadata": {
        "id": "ZdcsM0SLuv48"
      }
    },
    {
      "cell_type": "code",
      "source": [
        "# dropping rows which contains na values\n",
        "train.dropna(axis=1,inplace=True)\n",
        "test.dropna(axis=1,inplace=True)\n",
        "# train.dropna(subset=['SalePrice'],inplace=True)\n",
        "\n",
        "# dropping columns which has str as values\n",
        "x_train= train.drop(['SalePrice','MSZoning','Street','LotShape','LandContour','Utilities','LotConfig','LandSlope','Neighborhood','Condition1','Condition2','BldgType','HouseStyle','SaleType','SaleCondition','RoofStyle','RoofMatl','Exterior1st','Exterior2nd','ExterQual','ExterCond','Foundation','Heating','HeatingQC','CentralAir','KitchenQual','Functional','PavedDrive','YrSold','Id', 'BsmtFinSF1', 'BsmtFinSF2', 'BsmtUnfSF', 'TotalBsmtSF','BsmtFullBath', 'BsmtHalfBath','GarageCars', 'GarageArea','Street'],axis=1)\n",
        "x_test=test.drop(['Street','LotShape','LandContour','LotConfig','LandSlope','Neighborhood','Condition1' ,'Condition2','BldgType','HouseStyle','SaleCondition','RoofStyle','RoofMatl','ExterQual','ExterCond','Foundation','Heating','HeatingQC', 'CentralAir','PavedDrive','YrSold','Id','Electrical'],axis=1)\n",
        "y_train = train['SalePrice']\n",
        "print(x_train.columns.shape)\n",
        "print(x_test.columns.shape)\n",
        "print(x_test.head(5))"
      ],
      "metadata": {
        "colab": {
          "base_uri": "https://localhost:8080/"
        },
        "id": "2ixXIoBaurUm",
        "outputId": "f04cd081-5646-4452-a77b-f3f8f430971c"
      },
      "execution_count": 71,
      "outputs": [
        {
          "output_type": "stream",
          "name": "stdout",
          "text": [
            "(24,)\n",
            "(24,)\n",
            "   MSSubClass  LotArea  OverallQual  OverallCond  YearBuilt  YearRemodAdd  1stFlrSF  2ndFlrSF  LowQualFinSF  GrLivArea  FullBath  HalfBath  BedroomAbvGr  KitchenAbvGr  TotRmsAbvGrd  Fireplaces  \\\n",
            "0          20    11622            5            6       1961          1961       896         0             0        896         1         0             2             1             5           0   \n",
            "1          20    14267            6            6       1958          1958      1329         0             0       1329         1         1             3             1             6           0   \n",
            "2          60    13830            5            5       1997          1998       928       701             0       1629         2         1             3             1             6           1   \n",
            "3          60     9978            6            6       1998          1998       926       678             0       1604         2         1             3             1             7           1   \n",
            "4         120     5005            8            5       1992          1992      1280         0             0       1280         2         0             2             1             5           0   \n",
            "\n",
            "   WoodDeckSF  OpenPorchSF  EnclosedPorch  3SsnPorch  ScreenPorch  PoolArea  MiscVal  MoSold  \n",
            "0         140            0              0          0          120         0        0       6  \n",
            "1         393           36              0          0            0         0    12500       6  \n",
            "2         212           34              0          0            0         0        0       3  \n",
            "3         360           36              0          0            0         0        0       6  \n",
            "4           0           82              0          0          144         0        0       1  \n"
          ]
        }
      ]
    },
    {
      "cell_type": "markdown",
      "source": [
        "# PCA"
      ],
      "metadata": {
        "id": "aQSolus5w3FV"
      }
    },
    {
      "cell_type": "code",
      "source": [
        "# Using PCA: is an unsupervised statistical technique used to examine the interrelations among a set of variables\n",
        "# decomposing each row into 10 principal components\n",
        "\n",
        "def pca_dec(data, n):\n",
        "  pca = PCA(n)\n",
        "  X_dec = pca.fit_transform(data)\n",
        "  return X_dec, pca\n",
        "\n",
        "#Decomposing the train set:\n",
        "pca_train_results, pca_train = pca_dec(x_train, 10)\n",
        "\n",
        "#Decomposing the test set:\n",
        "pca_test_results, pca_test = pca_dec(x_test, 10)\n",
        "\n",
        "#Creating a table with the explained variance ratio\n",
        "names_pcas = [f\"PCA Component {i}\" for i in range(1, 11, 1)]\n",
        "score1 = pd.DataFrame(list(zip(names_pcas, pca_train.explained_variance_ratio_)), columns=[\"Component\", \"Explained Variance Ratio\"])\n",
        "print(score1)"
      ],
      "metadata": {
        "colab": {
          "base_uri": "https://localhost:8080/"
        },
        "id": "f8J75spDQYVa",
        "outputId": "4adc2e58-42d5-485d-8944-86515aac8b8f"
      },
      "execution_count": 72,
      "outputs": [
        {
          "output_type": "stream",
          "name": "stdout",
          "text": [
            "          Component  Explained Variance Ratio\n",
            "0   PCA Component 1                  0.991413\n",
            "1   PCA Component 2                  0.003934\n",
            "2   PCA Component 3                  0.002454\n",
            "3   PCA Component 4                  0.001868\n",
            "4   PCA Component 5                  0.000145\n",
            "5   PCA Component 6                  0.000044\n",
            "6   PCA Component 7                  0.000035\n",
            "7   PCA Component 8                  0.000031\n",
            "8   PCA Component 9                  0.000029\n",
            "9  PCA Component 10                  0.000016\n"
          ]
        }
      ]
    },
    {
      "cell_type": "code",
      "source": [
        "\n",
        "#Sorting the values of the first principal component by how large each one is\n",
        "def var_nm_pca(x_train, pca_train):\n",
        "  df = pd.DataFrame({'PCA':pca_train.components_[0], 'Variable Names':list(x_train.columns)})\n",
        "  df = df.sort_values('PCA', ascending=False)\n",
        "\n",
        "  #Sorting the absolute values of the first principal component by magnitude\n",
        "  df2 = pd.DataFrame(df)\n",
        "  df2['PCA']=df2['PCA'].apply(np.absolute)\n",
        "  df2 = df2.sort_values('PCA', ascending=False)\n",
        "  #print(df2['Variable Names'][0:11])\n",
        "  return df.head(10)\n",
        "# df.head()\n",
        "# print variable names for pca\n",
        "list_col1 = var_nm_pca(x_train, pca_train)['Variable Names'].tolist()\n",
        "list_col1\n"
      ],
      "metadata": {
        "colab": {
          "base_uri": "https://localhost:8080/"
        },
        "id": "580t3x1dS_aB",
        "outputId": "fa3e5d7c-b494-4e56-8a40-aa7da3e3aefc"
      },
      "execution_count": 73,
      "outputs": [
        {
          "output_type": "execute_result",
          "data": {
            "text/plain": [
              "['LotArea',\n",
              " 'GrLivArea',\n",
              " '1stFlrSF',\n",
              " '2ndFlrSF',\n",
              " 'WoodDeckSF',\n",
              " 'MiscVal',\n",
              " 'OpenPorchSF',\n",
              " 'PoolArea',\n",
              " 'ScreenPorch',\n",
              " '3SsnPorch']"
            ]
          },
          "metadata": {},
          "execution_count": 73
        }
      ]
    },
    {
      "cell_type": "code",
      "source": [
        "# The PCA for LotArea is very high and it is diminishing all the other variables\n",
        "# so we place the LotArea variable aside for next PCA calculation for getting relevant correlations for other variables\n",
        "x_train1 = x_train.drop(['LotArea'], axis =1)\n",
        "#Decomposing the train set:\n",
        "pca_train_results1, pca_train1 = pca_dec(x_train1, 10)\n",
        "\n",
        "#Decomposing the test set:\n",
        "# pca_test_results1, pca_test1 = pca_dec(test_x, 10)\n",
        "\n",
        "#Creating a table with the explained variance ratio\n",
        "names_pcas1 = [f\"PCA Component {i}\" for i in range(1, 11, 1)]\n",
        "score = pd.DataFrame(list(zip(names_pcas1, pca_train1.explained_variance_ratio_)), columns=[\"Component\", \"Explained Variance Ratio\"])\n",
        "print(score)\n"
      ],
      "metadata": {
        "colab": {
          "base_uri": "https://localhost:8080/"
        },
        "id": "ZG0Q4pV5TZ4h",
        "outputId": "8f409efa-6706-4b89-da13-3c1fc9d596db"
      },
      "execution_count": 74,
      "outputs": [
        {
          "output_type": "stream",
          "name": "stdout",
          "text": [
            "          Component  Explained Variance Ratio\n",
            "0   PCA Component 1                  0.466975\n",
            "1   PCA Component 2                  0.275028\n",
            "2   PCA Component 3                  0.220680\n",
            "3   PCA Component 4                  0.016335\n",
            "4   PCA Component 5                  0.004910\n",
            "5   PCA Component 6                  0.003873\n",
            "6   PCA Component 7                  0.003530\n",
            "7   PCA Component 8                  0.003204\n",
            "8   PCA Component 9                  0.001754\n",
            "9  PCA Component 10                  0.001687\n"
          ]
        }
      ]
    },
    {
      "cell_type": "code",
      "source": [
        "# print variable names for pca\n",
        "list_col2 = var_nm_pca(x_train1, pca_train1)['Variable Names'].tolist()\n",
        "list_col2\n"
      ],
      "metadata": {
        "colab": {
          "base_uri": "https://localhost:8080/"
        },
        "id": "kc3PspwJVIRV",
        "outputId": "2e5864bc-3828-46d7-ace9-d84963f6e581"
      },
      "execution_count": 75,
      "outputs": [
        {
          "output_type": "execute_result",
          "data": {
            "text/plain": [
              "['GrLivArea',\n",
              " '2ndFlrSF',\n",
              " '1stFlrSF',\n",
              " 'WoodDeckSF',\n",
              " 'OpenPorchSF',\n",
              " 'PoolArea',\n",
              " 'YearRemodAdd',\n",
              " 'YearBuilt',\n",
              " 'ScreenPorch',\n",
              " 'LowQualFinSF']"
            ]
          },
          "metadata": {},
          "execution_count": 75
        }
      ]
    },
    {
      "cell_type": "markdown",
      "source": [
        "# Training the model using Linear Regression and predicting the housing saleprice"
      ],
      "metadata": {
        "id": "bWLVKCWVxWnK"
      }
    },
    {
      "cell_type": "code",
      "source": [
        "# picking only 10 variables which has a better correlation with target variable\n",
        "x_train = x_train[['LotArea','GrLivArea','2ndFlrSF','1stFlrSF','WoodDeckSF','OpenPorchSF','PoolArea','YearRemodAdd','YearBuilt','ScreenPorch', 'OverallCond']]\n",
        "x_test = x_test[['LotArea','GrLivArea','2ndFlrSF','1stFlrSF','WoodDeckSF','OpenPorchSF','PoolArea','YearRemodAdd','YearBuilt','ScreenPorch','OverallCond' ]] \n",
        "model = LinearRegression()\n",
        "model.fit(x_train,y_train)\n",
        "predictions=model.predict(x_test)\n",
        "submission=pd.DataFrame({'Id':test['Id'],'SalePrice':predictions})\n",
        "filename = 'HousePrice.csv'\n",
        "submission.to_csv(filename,index=False)\n",
        "print('Saved file: ' + filename)"
      ],
      "metadata": {
        "colab": {
          "base_uri": "https://localhost:8080/"
        },
        "id": "2ZWAeRnjXrQj",
        "outputId": "db240b8a-04d9-4f41-9b31-3bf1d213fb88"
      },
      "execution_count": 76,
      "outputs": [
        {
          "output_type": "stream",
          "name": "stdout",
          "text": [
            "Saved file: HousePrice.csv\n"
          ]
        }
      ]
    },
    {
      "cell_type": "code",
      "source": [
        ""
      ],
      "metadata": {
        "id": "j_RmFmy8fN8B"
      },
      "execution_count": 76,
      "outputs": []
    }
  ]
}